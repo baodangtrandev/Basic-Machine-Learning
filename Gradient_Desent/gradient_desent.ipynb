{
 "cells": [
  {
   "cell_type": "code",
   "execution_count": 8,
   "metadata": {},
   "outputs": [],
   "source": [
    "import math\n",
    "import numpy as np\n",
    "import matplotlib.pyplot as plt\n",
    "from sympy import symbols, diff, sin, pi"
   ]
  },
  {
   "cell_type": "code",
   "execution_count": 9,
   "metadata": {},
   "outputs": [],
   "source": [
    "def derivative(f,x):\n",
    "    return diff(f,x)\n",
    "\n",
    "def cost(f,x,x_value):\n",
    "    return f.subs(x,x_value)\n",
    "    "
   ]
  },
  {
   "cell_type": "code",
   "execution_count": 10,
   "metadata": {},
   "outputs": [
    {
     "name": "stdout",
     "output_type": "stream",
     "text": [
      "Đạo hàm của f: 2*x + 5*cos(x)\n",
      "Cost:  pi**2/4 + 5\n"
     ]
    }
   ],
   "source": [
    "x = symbols('x')\n",
    "f = x**2 + 5*sin(x)\n",
    "\n",
    "\n",
    "f_prime = derivative(f, x)\n",
    "print(\"Đạo hàm của f:\", f_prime)\n",
    "\n",
    "print(\"Cost: \", cost(f, x, x_value=pi/2))\n"
   ]
  },
  {
   "cell_type": "code",
   "execution_count": null,
   "metadata": {},
   "outputs": [],
   "source": []
  }
 ],
 "metadata": {
  "kernelspec": {
   "display_name": "basic_ml",
   "language": "python",
   "name": "python3"
  },
  "language_info": {
   "codemirror_mode": {
    "name": "ipython",
    "version": 3
   },
   "file_extension": ".py",
   "mimetype": "text/x-python",
   "name": "python",
   "nbconvert_exporter": "python",
   "pygments_lexer": "ipython3",
   "version": "3.9.21"
  }
 },
 "nbformat": 4,
 "nbformat_minor": 2
}
